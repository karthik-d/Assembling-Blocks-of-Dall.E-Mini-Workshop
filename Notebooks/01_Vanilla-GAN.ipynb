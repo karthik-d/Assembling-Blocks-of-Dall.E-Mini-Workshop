{
  "cells": [
    {
      "cell_type": "markdown",
      "metadata": {
        "id": "RmNY2yE2XpkY"
      },
      "source": [
        "# Implementation of Vanilla GANs model\n",
        "Reference: https://arxiv.org/pdf/1406.2661.pdf"
      ]
    },
    {
      "cell_type": "code",
      "execution_count": 88,
      "metadata": {
        "collapsed": true,
        "colab": {
          "base_uri": "https://localhost:8080/"
        },
        "id": "pdi_bochXpkc",
        "outputId": "d3f69c08-9bbf-48ec-8c97-909971a3991c"
      },
      "outputs": [
        {
          "output_type": "stream",
          "name": "stdout",
          "text": [
            "Looking in indexes: https://pypi.org/simple, https://us-python.pkg.dev/colab-wheels/public/simple/\n",
            "Requirement already satisfied: torch in /usr/local/lib/python3.8/dist-packages (1.13.1+cu116)\n",
            "Requirement already satisfied: torchvision in /usr/local/lib/python3.8/dist-packages (0.14.1+cu116)\n",
            "Requirement already satisfied: typing-extensions in /usr/local/lib/python3.8/dist-packages (from torch) (4.5.0)\n",
            "Requirement already satisfied: pillow!=8.3.*,>=5.3.0 in /usr/local/lib/python3.8/dist-packages (from torchvision) (7.1.2)\n",
            "Requirement already satisfied: numpy in /usr/local/lib/python3.8/dist-packages (from torchvision) (1.21.6)\n",
            "Requirement already satisfied: requests in /usr/local/lib/python3.8/dist-packages (from torchvision) (2.25.1)\n",
            "Requirement already satisfied: urllib3<1.27,>=1.21.1 in /usr/local/lib/python3.8/dist-packages (from requests->torchvision) (1.24.3)\n",
            "Requirement already satisfied: certifi>=2017.4.17 in /usr/local/lib/python3.8/dist-packages (from requests->torchvision) (2022.12.7)\n",
            "Requirement already satisfied: idna<3,>=2.5 in /usr/local/lib/python3.8/dist-packages (from requests->torchvision) (2.10)\n",
            "Requirement already satisfied: chardet<5,>=3.0.2 in /usr/local/lib/python3.8/dist-packages (from requests->torchvision) (4.0.0)\n"
          ]
        }
      ],
      "source": [
        "# Run the comment below only when using Google Colab\n",
        "!pip install torch torchvision"
      ]
    },
    {
      "cell_type": "code",
      "execution_count": 89,
      "metadata": {
        "collapsed": true,
        "id": "uvcdbCa9Xpke"
      },
      "outputs": [],
      "source": [
        "import torch\n",
        "import torchvision\n",
        "import torch.nn as nn\n",
        "import torch.nn.functional as F"
      ]
    },
    {
      "cell_type": "code",
      "execution_count": 90,
      "metadata": {
        "collapsed": true,
        "id": "BlzhsBYIXpke"
      },
      "outputs": [],
      "source": [
        "from torch.utils.data import DataLoader\n",
        "from torchvision import datasets\n",
        "from torchvision import transforms\n",
        "from torchvision.utils import save_image"
      ]
    },
    {
      "cell_type": "code",
      "execution_count": 91,
      "metadata": {
        "collapsed": true,
        "id": "gvdb5W81Xpkf"
      },
      "outputs": [],
      "source": [
        "import numpy as np\n",
        "import datetime\n",
        "import os, sys"
      ]
    },
    {
      "cell_type": "code",
      "execution_count": 92,
      "metadata": {
        "collapsed": true,
        "id": "6xOTHlzhXpkg"
      },
      "outputs": [],
      "source": [
        "from matplotlib.pyplot import imshow, imsave\n",
        "%matplotlib inline"
      ]
    },
    {
      "cell_type": "code",
      "execution_count": 93,
      "metadata": {
        "collapsed": true,
        "id": "B46zNogAXpkg"
      },
      "outputs": [],
      "source": [
        "MODEL_NAME = 'VanillaGAN'\n",
        "DEVICE = torch.device(\"cuda\" if torch.cuda.is_available() else \"cpu\")"
      ]
    },
    {
      "cell_type": "code",
      "execution_count": 94,
      "metadata": {
        "collapsed": true,
        "id": "Cev-Lx8IXpkh"
      },
      "outputs": [],
      "source": [
        "def get_sample_image(G, n_noise):\n",
        "    \"\"\"\n",
        "        generate an image from a random input\n",
        "    \"\"\"\n",
        "    z = torch.randn(1, n_noise).to(DEVICE)\n",
        "    print(z)\n",
        "    y_hat = G(z).view(1, 28, 28) # (100, 28, 28)\n",
        "    result = y_hat.cpu().data.numpy()\n",
        "    img = [x for x in result[0]]\n",
        "    return img"
      ]
    },
    {
      "cell_type": "code",
      "execution_count": 95,
      "metadata": {
        "collapsed": true,
        "id": "OxdaPEFGXpki"
      },
      "outputs": [],
      "source": [
        "class Discriminator(nn.Module):\n",
        "    \"\"\"\n",
        "        Simple Discriminator w/ MLP\n",
        "    \"\"\"\n",
        "    def __init__(self, input_size=784, num_classes=1):\n",
        "        super(Discriminator, self).__init__()\n",
        "        self.layer = nn.Sequential(\n",
        "            nn.Linear(input_size, 512),\n",
        "            nn.LeakyReLU(0.2),\n",
        "            nn.Linear(512, 256),\n",
        "            nn.LeakyReLU(0.2),\n",
        "            nn.Linear(256, num_classes),\n",
        "            nn.Sigmoid(),\n",
        "        )\n",
        "    \n",
        "    def forward(self, x):\n",
        "        y_ = x.view(x.size(0), -1)\n",
        "        y_ = self.layer(y_)\n",
        "        return y_"
      ]
    },
    {
      "cell_type": "code",
      "execution_count": 96,
      "metadata": {
        "collapsed": true,
        "id": "yMZLgXYqXpki"
      },
      "outputs": [],
      "source": [
        "class Generator(nn.Module):\n",
        "    \"\"\"\n",
        "        Simple Generator w/ MLP\n",
        "    \"\"\"\n",
        "    def __init__(self, input_size=100, num_classes=784):\n",
        "        super(Generator, self).__init__()\n",
        "        self.layer = nn.Sequential(\n",
        "            nn.Linear(input_size, 128),\n",
        "            nn.LeakyReLU(0.2),\n",
        "            nn.Linear(128, 256),\n",
        "            nn.BatchNorm1d(256),\n",
        "            nn.LeakyReLU(0.2),\n",
        "            nn.Linear(256, 512),\n",
        "            nn.BatchNorm1d(512),\n",
        "            nn.LeakyReLU(0.2),\n",
        "            nn.Linear(512, 1024),\n",
        "            nn.BatchNorm1d(1024),\n",
        "            nn.LeakyReLU(0.2),\n",
        "            nn.Linear(1024, num_classes),\n",
        "            nn.Tanh()\n",
        "        )\n",
        "        \n",
        "    def forward(self, x):\n",
        "        y_ = self.layer(x)\n",
        "        y_ = y_.view(x.size(0), 1, 28, 28)\n",
        "        return y_"
      ]
    },
    {
      "cell_type": "code",
      "execution_count": 97,
      "metadata": {
        "collapsed": true,
        "id": "NwXCFCtTXpkj"
      },
      "outputs": [],
      "source": [
        "n_noise = 1"
      ]
    },
    {
      "cell_type": "code",
      "execution_count": 98,
      "metadata": {
        "collapsed": true,
        "id": "GwI4cPykXpkk"
      },
      "outputs": [],
      "source": [
        "D = Discriminator().to(DEVICE)\n",
        "G = Generator(n_noise).to(DEVICE)"
      ]
    },
    {
      "cell_type": "code",
      "execution_count": 99,
      "metadata": {
        "collapsed": true,
        "id": "c-x0EPd-Xpkk"
      },
      "outputs": [],
      "source": [
        "transform = transforms.Compose([transforms.ToTensor(),\n",
        "                                transforms.Normalize(mean=[0.5],\n",
        "                                std=[0.5])]\n",
        ")"
      ]
    },
    {
      "cell_type": "code",
      "execution_count": 100,
      "metadata": {
        "collapsed": true,
        "id": "I2wG4kVCXpkk"
      },
      "outputs": [],
      "source": [
        "mnist = datasets.MNIST(root='../data/', train=True, transform=transform, download=True)"
      ]
    },
    {
      "cell_type": "code",
      "execution_count": 101,
      "metadata": {
        "collapsed": true,
        "id": "D-tKtALMXpkl"
      },
      "outputs": [],
      "source": [
        "batch_size = 64"
      ]
    },
    {
      "cell_type": "code",
      "execution_count": 102,
      "metadata": {
        "collapsed": true,
        "id": "ipbDoPt2Xpkl"
      },
      "outputs": [],
      "source": [
        "data_loader = DataLoader(dataset=mnist, batch_size=batch_size, shuffle=True, drop_last=True)"
      ]
    },
    {
      "cell_type": "code",
      "execution_count": 103,
      "metadata": {
        "collapsed": true,
        "id": "ozecKYyJXpkl"
      },
      "outputs": [],
      "source": [
        "criterion = nn.BCELoss()\n",
        "D_opt = torch.optim.Adam(D.parameters(), lr=0.0002, betas=(0.5, 0.999))\n",
        "G_opt = torch.optim.Adam(G.parameters(), lr=0.0002, betas=(0.5, 0.999))"
      ]
    },
    {
      "cell_type": "code",
      "execution_count": 104,
      "metadata": {
        "collapsed": true,
        "id": "vQNvP853Xpkm"
      },
      "outputs": [],
      "source": [
        "max_epoch = 50 # need more than 10 epochs for training generator\n",
        "step = 0\n",
        "n_critic = 1 # for training more k steps about Discriminator"
      ]
    },
    {
      "cell_type": "code",
      "execution_count": 105,
      "metadata": {
        "collapsed": true,
        "id": "M5-oncJQXpkm"
      },
      "outputs": [],
      "source": [
        "D_labels = torch.ones(batch_size, 1).to(DEVICE) # Discriminator Label to real\n",
        "D_fakes = torch.zeros(batch_size, 1).to(DEVICE) # Discriminator Label to fake"
      ]
    },
    {
      "cell_type": "code",
      "execution_count": 106,
      "metadata": {
        "collapsed": true,
        "id": "HWR0zSOcXpkm"
      },
      "outputs": [],
      "source": [
        "if not os.path.exists('samples_new'):\n",
        "    os.makedirs('samples_new')"
      ]
    },
    {
      "cell_type": "code",
      "execution_count": 107,
      "metadata": {
        "scrolled": true,
        "colab": {
          "base_uri": "https://localhost:8080/"
        },
        "id": "C6aMAdjPXpkm",
        "outputId": "7c85174d-a7ed-4836-a0a5-a2ddf542f37e"
      },
      "outputs": [
        {
          "output_type": "stream",
          "name": "stdout",
          "text": [
            "Epoch: 0/50, Step: 0, D Loss: 1.38325834274292, G Loss: 0.6940973997116089\n",
            "tensor([[-1.1423]], device='cuda:0')\n",
            "Epoch: 0/50, Step: 500, D Loss: 1.3536347150802612, G Loss: 0.6905428171157837\n",
            "Epoch: 1/50, Step: 1000, D Loss: 1.3080716133117676, G Loss: 0.7578407526016235\n",
            "tensor([[0.2801]], device='cuda:0')\n",
            "Epoch: 1/50, Step: 1500, D Loss: 1.299098014831543, G Loss: 0.9045193195343018\n",
            "Epoch: 2/50, Step: 2000, D Loss: 1.294156551361084, G Loss: 0.9599262475967407\n",
            "tensor([[0.5308]], device='cuda:0')\n",
            "Epoch: 2/50, Step: 2500, D Loss: 1.266624093055725, G Loss: 1.4745287895202637\n",
            "Epoch: 3/50, Step: 3000, D Loss: 1.1962943077087402, G Loss: 1.0235905647277832\n",
            "tensor([[-1.4165]], device='cuda:0')\n",
            "Epoch: 3/50, Step: 3500, D Loss: 1.0411065816879272, G Loss: 1.0169897079467773\n",
            "Epoch: 4/50, Step: 4000, D Loss: 1.3671650886535645, G Loss: 0.8709237575531006\n",
            "tensor([[0.5211]], device='cuda:0')\n",
            "Epoch: 4/50, Step: 4500, D Loss: 1.2172660827636719, G Loss: 0.866449236869812\n",
            "Epoch: 5/50, Step: 5000, D Loss: 1.273219347000122, G Loss: 0.8008490800857544\n",
            "tensor([[-0.4205]], device='cuda:0')\n",
            "Epoch: 5/50, Step: 5500, D Loss: 1.150991678237915, G Loss: 1.0567113161087036\n",
            "Epoch: 6/50, Step: 6000, D Loss: 1.0838003158569336, G Loss: 1.4981334209442139\n",
            "tensor([[-0.5234]], device='cuda:0')\n",
            "Epoch: 6/50, Step: 6500, D Loss: 1.439526081085205, G Loss: 0.5173234939575195\n",
            "Epoch: 7/50, Step: 7000, D Loss: 0.9331059455871582, G Loss: 1.6056535243988037\n",
            "tensor([[-0.4075]], device='cuda:0')\n",
            "Epoch: 8/50, Step: 7500, D Loss: 1.207405924797058, G Loss: 1.4066954851150513\n",
            "Epoch: 8/50, Step: 8000, D Loss: 1.08893620967865, G Loss: 0.9767869710922241\n",
            "tensor([[0.1316]], device='cuda:0')\n",
            "Epoch: 9/50, Step: 8500, D Loss: 1.0565919876098633, G Loss: 1.0520844459533691\n",
            "Epoch: 9/50, Step: 9000, D Loss: 1.0512218475341797, G Loss: 1.5349138975143433\n",
            "tensor([[0.3514]], device='cuda:0')\n",
            "Epoch: 10/50, Step: 9500, D Loss: 1.038356065750122, G Loss: 1.3898954391479492\n",
            "Epoch: 10/50, Step: 10000, D Loss: 1.0722403526306152, G Loss: 1.9551187753677368\n",
            "tensor([[0.0474]], device='cuda:0')\n",
            "Epoch: 11/50, Step: 10500, D Loss: 0.8197487592697144, G Loss: 1.7531628608703613\n",
            "Epoch: 11/50, Step: 11000, D Loss: 0.7700877785682678, G Loss: 1.9859974384307861\n",
            "tensor([[-0.7066]], device='cuda:0')\n",
            "Epoch: 12/50, Step: 11500, D Loss: 0.9487263560295105, G Loss: 1.465941071510315\n",
            "Epoch: 12/50, Step: 12000, D Loss: 0.9099321365356445, G Loss: 1.827622890472412\n",
            "tensor([[-1.5087]], device='cuda:0')\n",
            "Epoch: 13/50, Step: 12500, D Loss: 1.1681532859802246, G Loss: 0.8778843283653259\n",
            "Epoch: 13/50, Step: 13000, D Loss: 0.9992204904556274, G Loss: 1.51530122756958\n",
            "tensor([[-0.8769]], device='cuda:0')\n",
            "Epoch: 14/50, Step: 13500, D Loss: 0.8403242230415344, G Loss: 1.5505788326263428\n",
            "Epoch: 14/50, Step: 14000, D Loss: 1.0172595977783203, G Loss: 1.845094919204712\n",
            "tensor([[0.5854]], device='cuda:0')\n",
            "Epoch: 15/50, Step: 14500, D Loss: 0.8138959407806396, G Loss: 1.4160915613174438\n",
            "Epoch: 16/50, Step: 15000, D Loss: 1.109919548034668, G Loss: 1.019853115081787\n",
            "tensor([[-1.5134]], device='cuda:0')\n",
            "Epoch: 16/50, Step: 15500, D Loss: 0.8439907431602478, G Loss: 1.065410852432251\n",
            "Epoch: 17/50, Step: 16000, D Loss: 0.9060516953468323, G Loss: 1.6587591171264648\n",
            "tensor([[-1.3149]], device='cuda:0')\n",
            "Epoch: 17/50, Step: 16500, D Loss: 0.9949458241462708, G Loss: 1.455675721168518\n",
            "Epoch: 18/50, Step: 17000, D Loss: 0.8683544397354126, G Loss: 1.5317463874816895\n",
            "tensor([[-0.7760]], device='cuda:0')\n",
            "Epoch: 18/50, Step: 17500, D Loss: 0.7020473480224609, G Loss: 1.73281729221344\n",
            "Epoch: 19/50, Step: 18000, D Loss: 0.8596771359443665, G Loss: 1.667721152305603\n",
            "tensor([[1.6966]], device='cuda:0')\n",
            "Epoch: 19/50, Step: 18500, D Loss: 0.9595268964767456, G Loss: 1.4383454322814941\n",
            "Epoch: 20/50, Step: 19000, D Loss: 0.8611764907836914, G Loss: 2.0560216903686523\n",
            "tensor([[-0.9446]], device='cuda:0')\n",
            "Epoch: 20/50, Step: 19500, D Loss: 1.213308572769165, G Loss: 1.286394476890564\n",
            "Epoch: 21/50, Step: 20000, D Loss: 1.1713078022003174, G Loss: 3.4206390380859375\n",
            "tensor([[0.8553]], device='cuda:0')\n",
            "Epoch: 21/50, Step: 20500, D Loss: 0.9425888061523438, G Loss: 1.1386390924453735\n",
            "Epoch: 22/50, Step: 21000, D Loss: 1.1128169298171997, G Loss: 1.2668561935424805\n",
            "tensor([[-0.5386]], device='cuda:0')\n",
            "Epoch: 22/50, Step: 21500, D Loss: 1.0652722120285034, G Loss: 2.2084717750549316\n",
            "Epoch: 23/50, Step: 22000, D Loss: 0.5895320177078247, G Loss: 1.7372255325317383\n",
            "tensor([[-0.7985]], device='cuda:0')\n",
            "Epoch: 24/50, Step: 22500, D Loss: 1.1945037841796875, G Loss: 3.45560359954834\n",
            "Epoch: 24/50, Step: 23000, D Loss: 0.9252026677131653, G Loss: 1.5635197162628174\n",
            "tensor([[0.1264]], device='cuda:0')\n",
            "Epoch: 25/50, Step: 23500, D Loss: 1.0452706813812256, G Loss: 1.4397499561309814\n",
            "Epoch: 25/50, Step: 24000, D Loss: 0.6312597990036011, G Loss: 1.5720090866088867\n",
            "tensor([[-0.6643]], device='cuda:0')\n",
            "Epoch: 26/50, Step: 24500, D Loss: 0.677746593952179, G Loss: 2.0158309936523438\n",
            "Epoch: 26/50, Step: 25000, D Loss: 0.5232183933258057, G Loss: 1.9600437879562378\n",
            "tensor([[-1.1791]], device='cuda:0')\n",
            "Epoch: 27/50, Step: 25500, D Loss: 0.6403489708900452, G Loss: 2.6307995319366455\n",
            "Epoch: 27/50, Step: 26000, D Loss: 0.7496873140335083, G Loss: 2.529888868331909\n",
            "tensor([[-0.4491]], device='cuda:0')\n",
            "Epoch: 28/50, Step: 26500, D Loss: 0.8445727229118347, G Loss: 1.6095701456069946\n",
            "Epoch: 28/50, Step: 27000, D Loss: 0.8199905157089233, G Loss: 1.7273249626159668\n",
            "tensor([[0.1099]], device='cuda:0')\n",
            "Epoch: 29/50, Step: 27500, D Loss: 0.7541686296463013, G Loss: 1.9824471473693848\n",
            "Epoch: 29/50, Step: 28000, D Loss: 1.1713907718658447, G Loss: 1.4150810241699219\n",
            "tensor([[-0.7663]], device='cuda:0')\n",
            "Epoch: 30/50, Step: 28500, D Loss: 0.7174419164657593, G Loss: 2.17240047454834\n",
            "Epoch: 30/50, Step: 29000, D Loss: 0.6399352550506592, G Loss: 1.950873613357544\n",
            "tensor([[-0.3378]], device='cuda:0')\n",
            "Epoch: 31/50, Step: 29500, D Loss: 1.023330807685852, G Loss: 1.4070942401885986\n",
            "Epoch: 32/50, Step: 30000, D Loss: 0.6244921088218689, G Loss: 1.8709001541137695\n",
            "tensor([[0.0132]], device='cuda:0')\n",
            "Epoch: 32/50, Step: 30500, D Loss: 0.6615132093429565, G Loss: 1.948259949684143\n",
            "Epoch: 33/50, Step: 31000, D Loss: 0.614514946937561, G Loss: 2.041196346282959\n",
            "tensor([[-0.7557]], device='cuda:0')\n",
            "Epoch: 33/50, Step: 31500, D Loss: 0.7658108472824097, G Loss: 1.8413174152374268\n",
            "Epoch: 34/50, Step: 32000, D Loss: 0.7749953269958496, G Loss: 1.8537555932998657\n",
            "tensor([[-0.7127]], device='cuda:0')\n",
            "Epoch: 34/50, Step: 32500, D Loss: 0.6499731540679932, G Loss: 1.7208251953125\n",
            "Epoch: 35/50, Step: 33000, D Loss: 1.016239047050476, G Loss: 3.5599570274353027\n",
            "tensor([[1.7158]], device='cuda:0')\n",
            "Epoch: 35/50, Step: 33500, D Loss: 0.6726706027984619, G Loss: 2.031284809112549\n",
            "Epoch: 36/50, Step: 34000, D Loss: 0.7982136607170105, G Loss: 2.389909505844116\n",
            "tensor([[-1.6345]], device='cuda:0')\n",
            "Epoch: 36/50, Step: 34500, D Loss: 0.685850203037262, G Loss: 2.347884178161621\n",
            "Epoch: 37/50, Step: 35000, D Loss: 0.8878302574157715, G Loss: 3.7723498344421387\n",
            "tensor([[0.1049]], device='cuda:0')\n",
            "Epoch: 37/50, Step: 35500, D Loss: 0.38184937834739685, G Loss: 2.590275764465332\n",
            "Epoch: 38/50, Step: 36000, D Loss: 0.7044569253921509, G Loss: 1.6465582847595215\n",
            "tensor([[0.0330]], device='cuda:0')\n",
            "Epoch: 38/50, Step: 36500, D Loss: 0.8459586501121521, G Loss: 1.998071312904358\n",
            "Epoch: 39/50, Step: 37000, D Loss: 0.44959238171577454, G Loss: 3.3003759384155273\n",
            "tensor([[1.3397]], device='cuda:0')\n",
            "Epoch: 40/50, Step: 37500, D Loss: 0.43443602323532104, G Loss: 2.3354580402374268\n",
            "Epoch: 40/50, Step: 38000, D Loss: 0.8702710866928101, G Loss: 2.8171253204345703\n",
            "tensor([[-2.3921]], device='cuda:0')\n",
            "Epoch: 41/50, Step: 38500, D Loss: 0.4781753122806549, G Loss: 2.541454792022705\n",
            "Epoch: 41/50, Step: 39000, D Loss: 0.828315019607544, G Loss: 2.4086999893188477\n",
            "tensor([[-0.4673]], device='cuda:0')\n",
            "Epoch: 42/50, Step: 39500, D Loss: 0.6910381317138672, G Loss: 2.2004830837249756\n",
            "Epoch: 42/50, Step: 40000, D Loss: 0.536389946937561, G Loss: 2.2082672119140625\n",
            "tensor([[1.1150]], device='cuda:0')\n",
            "Epoch: 43/50, Step: 40500, D Loss: 0.7718656659126282, G Loss: 2.3450489044189453\n",
            "Epoch: 43/50, Step: 41000, D Loss: 0.4189324378967285, G Loss: 3.519131660461426\n",
            "tensor([[0.4078]], device='cuda:0')\n",
            "Epoch: 44/50, Step: 41500, D Loss: 0.731037974357605, G Loss: 2.868464708328247\n",
            "Epoch: 44/50, Step: 42000, D Loss: 0.564018189907074, G Loss: 2.4179611206054688\n",
            "tensor([[-0.2518]], device='cuda:0')\n",
            "Epoch: 45/50, Step: 42500, D Loss: 0.6226348280906677, G Loss: 2.537388563156128\n",
            "Epoch: 45/50, Step: 43000, D Loss: 0.7072999477386475, G Loss: 2.0342302322387695\n",
            "tensor([[-0.7754]], device='cuda:0')\n",
            "Epoch: 46/50, Step: 43500, D Loss: 0.43784335255622864, G Loss: 2.6208887100219727\n",
            "Epoch: 46/50, Step: 44000, D Loss: 0.545677661895752, G Loss: 2.654303550720215\n",
            "tensor([[0.9412]], device='cuda:0')\n",
            "Epoch: 47/50, Step: 44500, D Loss: 0.43782714009284973, G Loss: 2.9436168670654297\n",
            "Epoch: 48/50, Step: 45000, D Loss: 0.6084394454956055, G Loss: 3.786524772644043\n",
            "tensor([[-0.5545]], device='cuda:0')\n",
            "Epoch: 48/50, Step: 45500, D Loss: 0.5880069732666016, G Loss: 2.717426300048828\n",
            "Epoch: 49/50, Step: 46000, D Loss: 0.5313471555709839, G Loss: 3.216104745864868\n",
            "tensor([[1.3323]], device='cuda:0')\n",
            "Epoch: 49/50, Step: 46500, D Loss: 0.2791050970554352, G Loss: 3.268008232116699\n"
          ]
        }
      ],
      "source": [
        "for epoch in range(max_epoch):\n",
        "    for idx, (images, _) in enumerate(data_loader):\n",
        "        # Training Discriminator\n",
        "        x = images.to(DEVICE)\n",
        "        x_outputs = D(x)\n",
        "        D_x_loss = criterion(x_outputs, D_labels)\n",
        "\n",
        "        z = torch.randn(batch_size, n_noise).to(DEVICE)\n",
        "        z_outputs = D(G(z))\n",
        "        D_z_loss = criterion(z_outputs, D_fakes)\n",
        "        D_loss = D_x_loss + D_z_loss\n",
        "        \n",
        "        D.zero_grad()\n",
        "        D_loss.backward()\n",
        "        D_opt.step()\n",
        "\n",
        "        if step % n_critic == 0:\n",
        "            # Training Generator\n",
        "            z = torch.randn(batch_size, n_noise).to(DEVICE)\n",
        "            z_outputs = D(G(z))\n",
        "            G_loss = criterion(z_outputs, D_labels)\n",
        "\n",
        "            G.zero_grad()\n",
        "            G_loss.backward()\n",
        "            G_opt.step()\n",
        "        \n",
        "        if step % 500 == 0:\n",
        "            print('Epoch: {}/{}, Step: {}, D Loss: {}, G Loss: {}'.format(epoch, max_epoch, step, D_loss.item(), G_loss.item()))\n",
        "        \n",
        "        if step % 1000 == 0:\n",
        "            G.eval()\n",
        "            img = get_sample_image(G, n_noise)\n",
        "            imsave('samples_new/{}_step{}.jpg'.format(MODEL_NAME, str(step).zfill(3)), img, cmap='gray')\n",
        "            G.train()\n",
        "        step += 1"
      ]
    },
    {
      "cell_type": "markdown",
      "metadata": {
        "id": "UBMyTxBhXpko"
      },
      "source": [
        "## Visualize Sample"
      ]
    },
    {
      "cell_type": "code",
      "execution_count": 126,
      "metadata": {
        "colab": {
          "base_uri": "https://localhost:8080/",
          "height": 300
        },
        "id": "eMerrEL8Xpko",
        "outputId": "da1feed0-4820-4daa-9b0d-46ea546264ce"
      },
      "outputs": [
        {
          "output_type": "stream",
          "name": "stdout",
          "text": [
            "tensor([[-1.4666]], device='cuda:0')\n"
          ]
        },
        {
          "output_type": "execute_result",
          "data": {
            "text/plain": [
              "<matplotlib.image.AxesImage at 0x7f583a554eb0>"
            ]
          },
          "metadata": {},
          "execution_count": 126
        },
        {
          "output_type": "display_data",
          "data": {
            "text/plain": [
              "<Figure size 432x288 with 1 Axes>"
            ],
            "image/png": "[encoded data removed]"
          },
          "metadata": {
            "needs_background": "light"
          }
        }
      ],
      "source": [
        "# generation to image\n",
        "G.eval()\n",
        "imshow(get_sample_image(G, n_noise), cmap='gray')"
      ]
    },
    {
      "cell_type": "code",
      "execution_count": 109,
      "metadata": {
        "collapsed": true,
        "id": "skaVYWPzXpko"
      },
      "outputs": [],
      "source": [
        "# Saving params.\n",
        "torch.save(D.state_dict(), 'D.pkl')\n",
        "torch.save(G.state_dict(), 'G.pkl')"
      ]
    }
  ],
  "metadata": {
    "kernelspec": {
      "display_name": "Python 3",
      "language": "python",
      "name": "python3"
    },
    "language_info": {
      "codemirror_mode": {
        "name": "ipython",
        "version": 3
      },
      "file_extension": ".py",
      "mimetype": "text/x-python",
      "name": "python",
      "nbconvert_exporter": "python",
      "pygments_lexer": "ipython3",
      "version": "3.6.3"
    },
    "colab": {
      "provenance": []
    },
    "accelerator": "GPU",
    "gpuClass": "standard"
  },
  "nbformat": 4,
  "nbformat_minor": 0
}